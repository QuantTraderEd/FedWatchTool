{
 "cells": [
  {
   "cell_type": "code",
   "execution_count": 1,
   "metadata": {},
   "outputs": [
    {
     "name": "stderr",
     "output_type": "stream",
     "text": [
      "/Users/assa/.pyenv/versions/anaconda3-5.3.1/lib/python3.7/site-packages/requests/__init__.py:91: RequestsDependencyWarning: urllib3 (1.26.11) or chardet (3.0.4) doesn't match a supported version!\n",
      "  RequestsDependencyWarning)\n"
     ]
    }
   ],
   "source": [
    "import requests\n",
    "import selenium\n",
    "import pandas as pd\n",
    "import matplotlib.pyplot as plt\n",
    "\n",
    "\n",
    "from bs4 import BeautifulSoup\n",
    "from selenium import webdriver\n",
    "from selenium.webdriver.common.by import By as BY\n",
    "from selenium.webdriver.firefox.options import Options"
   ]
  },
  {
   "cell_type": "code",
   "execution_count": 2,
   "metadata": {},
   "outputs": [
    {
     "data": {
      "text/plain": [
       "'1.1.5'"
      ]
     },
     "execution_count": 2,
     "metadata": {},
     "output_type": "execute_result"
    }
   ],
   "source": [
    "pd.__version__"
   ]
  },
  {
   "cell_type": "code",
   "execution_count": 3,
   "metadata": {},
   "outputs": [
    {
     "data": {
      "text/plain": [
       "'4.4.0'"
      ]
     },
     "execution_count": 3,
     "metadata": {},
     "output_type": "execute_result"
    }
   ],
   "source": [
    "selenium.__version__"
   ]
  },
  {
   "cell_type": "markdown",
   "metadata": {},
   "source": [
    "###  CME 시장 사이트에서 가격 수집"
   ]
  },
  {
   "cell_type": "code",
   "execution_count": 4,
   "metadata": {},
   "outputs": [],
   "source": [
    "url = \"https://www.cmegroup.com/markets/interest-rates/stirs/30-day-federal-fund.quotes.html\""
   ]
  },
  {
   "cell_type": "code",
   "execution_count": 5,
   "metadata": {},
   "outputs": [],
   "source": [
    "# read timeout 발생\n",
    "# r = requests.get(url, timeout=30)"
   ]
  },
  {
   "cell_type": "code",
   "execution_count": 6,
   "metadata": {},
   "outputs": [],
   "source": [
    "options = Options()\n",
    "options.headless = True\n",
    "# options.add_argument('--blink-settings=imagesEnabled=false')\n",
    "options.add_argument('incognito')\n",
    "driver = webdriver.Firefox(options=options)"
   ]
  },
  {
   "cell_type": "code",
   "execution_count": 7,
   "metadata": {},
   "outputs": [],
   "source": [
    "driver.implicitly_wait(30)"
   ]
  },
  {
   "cell_type": "code",
   "execution_count": 8,
   "metadata": {},
   "outputs": [],
   "source": [
    "driver.get(url)"
   ]
  },
  {
   "cell_type": "code",
   "execution_count": 9,
   "metadata": {},
   "outputs": [],
   "source": [
    "html = driver.page_source"
   ]
  },
  {
   "cell_type": "code",
   "execution_count": 10,
   "metadata": {},
   "outputs": [],
   "source": [
    "# soup = BeautifulSoup(html, 'html.parser')\n",
    "# target_table = soup.find('div', {'class': 'main-table-wrapper'})"
   ]
  },
  {
   "cell_type": "code",
   "execution_count": 11,
   "metadata": {},
   "outputs": [],
   "source": [
    "target_table = driver.find_element(BY.CLASS_NAME, 'main-table-wrapper')"
   ]
  },
  {
   "cell_type": "code",
   "execution_count": 12,
   "metadata": {},
   "outputs": [],
   "source": [
    "# table_rows = target_table.find_elements(BY.CLASS_NAME, 'table-row-animate')"
   ]
  },
  {
   "cell_type": "code",
   "execution_count": 13,
   "metadata": {},
   "outputs": [],
   "source": [
    "data_text = target_table.text"
   ]
  },
  {
   "cell_type": "code",
   "execution_count": 14,
   "metadata": {},
   "outputs": [],
   "source": [
    "table_rows = data_text.split('\\n\\n')"
   ]
  },
  {
   "cell_type": "code",
   "execution_count": 15,
   "metadata": {},
   "outputs": [],
   "source": [
    "table_data = table_rows[1].split('\\n')"
   ]
  },
  {
   "cell_type": "code",
   "execution_count": 16,
   "metadata": {},
   "outputs": [
    {
     "name": "stdout",
     "output_type": "stream",
     "text": [
      "['AUG 2022', 'ZQQ2', 'OPT', '97.67', '+0.0025 (UNCH)', '97.6675', '97.6675', '97.67', '97.665', '13,774', '16:39:22 CT', '19 Aug 2022']\n",
      "['SEP 2022', 'ZQU2', 'OPT', '97.47', '-0.005 (-0.01%)', '97.475', '97.475', '97.475', '97.465', '12,043', '16:39:24 CT', '19 Aug 2022']\n",
      "['OCT 2022', 'ZQV2', 'OPT', '97.06', '-0.005 (-0.01%)', '97.065', '97.07', '97.075', '97.045', '44,918', '16:38:56 CT', '19 Aug 2022']\n",
      "['NOV 2022', 'ZQX2', 'OPT', '96.705', 'UNCH (UNCH)', '96.705', '96.72', '96.72', '96.68', '18,181', '16:37:32 CT', '19 Aug 2022']\n",
      "['DEC 2022', 'ZQZ2', 'OPT', '96.565', '-0.005 (-0.01%)', '96.57', '96.585', '96.59', '96.545', '11,006', '16:38:09 CT', '19 Aug 2022']\n",
      "['JAN 2023', 'ZQF3', 'OPT', '96.475', '-0.01 (-0.01%)', '96.485', '96.495', '96.50', '96.45', '22,683', '16:38:59 CT', '19 Aug 2022']\n",
      "['FEB 2023', 'ZQG3', 'OPT', '96.385', '-0.005 (-0.01%)', '96.39', '96.41', '96.41', '96.35', '9,397', '16:38:28 CT', '19 Aug 2022']\n",
      "['MAR 2023', 'ZQH3', 'OPT', '96.365', '-0.005 (-0.01%)', '96.37', '96.395', '96.395', '96.33', '1,544', '16:39:17 CT', '19 Aug 2022']\n",
      "['APR 2023', 'ZQJ3', 'OPT', '96.34', 'UNCH (UNCH)', '96.34', '96.37', '96.37', '96.295', '4,082', '16:38:41 CT', '19 Aug 2022']\n",
      "['MAY 2023', 'ZQK3', 'OPT', '96.355', '-0.005 (-0.01%)', '96.36', '96.385', '96.385', '96.305', '3,718', '16:39:20 CT', '19 Aug 2022']\n",
      "['JUN 2023', 'ZQM3', 'OPT', '96.38', '-0.01 (-0.01%)', '96.39', '96.375', '96.38', '96.335', '874', '16:38:32 CT', '19 Aug 2022']\n",
      "['JUL 2023', 'ZQN3', 'OPT', '96.425', '-0.005 (-0.01%)', '96.43', '96.46', '96.46', '96.37', '1,651', '16:38:00 CT', '19 Aug 2022']\n",
      "['AUG 2023', 'ZQQ3', 'OPT', '96.45', '-0.03 (-0.03%)', '96.48', '96.44', '96.455', '96.42', '1,246', '16:39:13 CT', '19 Aug 2022']\n",
      "['SEP 2023', 'ZQU3', 'OPT', '96.48', '-0.03 (-0.03%)', '96.51', '96.47', '96.495', '96.45', '160', '16:37:42 CT', '19 Aug 2022']\n",
      "['OCT 2023', 'ZQV3', 'OPT', '96.55', '-0.02 (-0.02%)', '96.57', '96.545', '96.555', '96.51', '270', '16:38:20 CT', '19 Aug 2022']\n",
      "['NOV 2023', 'ZQX3', 'OPT', '96.62', '-0.035 (-0.04%)', '96.655', '96.605', '96.625', '96.60', '153', '16:39:13 CT', '19 Aug 2022']\n",
      "['DEC 2023', 'ZQZ3', 'OPT', '96.655', '-0.055 (-0.06%)', '96.71', '96.655', '96.67', '96.64', '20', '16:38:01 CT', '19 Aug 2022']\n",
      "['JAN 2024', 'ZQF4', 'OPT', '96.695', '-0.055 (-0.06%)', '96.75', '96.70', '96.705', '96.685', '95', '16:37:43 CT', '19 Aug 2022']\n"
     ]
    }
   ],
   "source": [
    "data_list = list()\n",
    "for i in range(int(len(table_data)/12)):\n",
    "    row_data = table_data[i*12:(i+1)*12]\n",
    "    print(row_data)\n",
    "    data_list.append(row_data)"
   ]
  },
  {
   "cell_type": "code",
   "execution_count": 17,
   "metadata": {},
   "outputs": [],
   "source": [
    "columns_list = [\n",
    "    'Month',\n",
    "    'ShortCode',\n",
    "    'Options',\n",
    "    'Last',\n",
    "    'Change',\n",
    "    'PriorSettle',\n",
    "    'Open',\n",
    "    'High',\n",
    "    'Low',\n",
    "    'Volume',\n",
    "    'UpdatedTime',\n",
    "    'UpdatedDate'\n",
    "]"
   ]
  },
  {
   "cell_type": "code",
   "execution_count": 18,
   "metadata": {},
   "outputs": [
    {
     "data": {
      "text/html": [
       "<div>\n",
       "<style scoped>\n",
       "    .dataframe tbody tr th:only-of-type {\n",
       "        vertical-align: middle;\n",
       "    }\n",
       "\n",
       "    .dataframe tbody tr th {\n",
       "        vertical-align: top;\n",
       "    }\n",
       "\n",
       "    .dataframe thead th {\n",
       "        text-align: right;\n",
       "    }\n",
       "</style>\n",
       "<table border=\"1\" class=\"dataframe\">\n",
       "  <thead>\n",
       "    <tr style=\"text-align: right;\">\n",
       "      <th></th>\n",
       "      <th>Month</th>\n",
       "      <th>ShortCode</th>\n",
       "      <th>Options</th>\n",
       "      <th>Last</th>\n",
       "      <th>Change</th>\n",
       "      <th>PriorSettle</th>\n",
       "      <th>Open</th>\n",
       "      <th>High</th>\n",
       "      <th>Low</th>\n",
       "      <th>Volume</th>\n",
       "      <th>UpdatedTime</th>\n",
       "      <th>UpdatedDate</th>\n",
       "    </tr>\n",
       "  </thead>\n",
       "  <tbody>\n",
       "    <tr>\n",
       "      <th>0</th>\n",
       "      <td>AUG 2022</td>\n",
       "      <td>ZQQ2</td>\n",
       "      <td>OPT</td>\n",
       "      <td>97.67</td>\n",
       "      <td>+0.0025 (UNCH)</td>\n",
       "      <td>97.6675</td>\n",
       "      <td>97.6675</td>\n",
       "      <td>97.67</td>\n",
       "      <td>97.665</td>\n",
       "      <td>13,774</td>\n",
       "      <td>16:39:22 CT</td>\n",
       "      <td>19 Aug 2022</td>\n",
       "    </tr>\n",
       "    <tr>\n",
       "      <th>1</th>\n",
       "      <td>SEP 2022</td>\n",
       "      <td>ZQU2</td>\n",
       "      <td>OPT</td>\n",
       "      <td>97.47</td>\n",
       "      <td>-0.005 (-0.01%)</td>\n",
       "      <td>97.475</td>\n",
       "      <td>97.475</td>\n",
       "      <td>97.475</td>\n",
       "      <td>97.465</td>\n",
       "      <td>12,043</td>\n",
       "      <td>16:39:24 CT</td>\n",
       "      <td>19 Aug 2022</td>\n",
       "    </tr>\n",
       "    <tr>\n",
       "      <th>2</th>\n",
       "      <td>OCT 2022</td>\n",
       "      <td>ZQV2</td>\n",
       "      <td>OPT</td>\n",
       "      <td>97.06</td>\n",
       "      <td>-0.005 (-0.01%)</td>\n",
       "      <td>97.065</td>\n",
       "      <td>97.07</td>\n",
       "      <td>97.075</td>\n",
       "      <td>97.045</td>\n",
       "      <td>44,918</td>\n",
       "      <td>16:38:56 CT</td>\n",
       "      <td>19 Aug 2022</td>\n",
       "    </tr>\n",
       "    <tr>\n",
       "      <th>3</th>\n",
       "      <td>NOV 2022</td>\n",
       "      <td>ZQX2</td>\n",
       "      <td>OPT</td>\n",
       "      <td>96.705</td>\n",
       "      <td>UNCH (UNCH)</td>\n",
       "      <td>96.705</td>\n",
       "      <td>96.72</td>\n",
       "      <td>96.72</td>\n",
       "      <td>96.68</td>\n",
       "      <td>18,181</td>\n",
       "      <td>16:37:32 CT</td>\n",
       "      <td>19 Aug 2022</td>\n",
       "    </tr>\n",
       "    <tr>\n",
       "      <th>4</th>\n",
       "      <td>DEC 2022</td>\n",
       "      <td>ZQZ2</td>\n",
       "      <td>OPT</td>\n",
       "      <td>96.565</td>\n",
       "      <td>-0.005 (-0.01%)</td>\n",
       "      <td>96.57</td>\n",
       "      <td>96.585</td>\n",
       "      <td>96.59</td>\n",
       "      <td>96.545</td>\n",
       "      <td>11,006</td>\n",
       "      <td>16:38:09 CT</td>\n",
       "      <td>19 Aug 2022</td>\n",
       "    </tr>\n",
       "    <tr>\n",
       "      <th>5</th>\n",
       "      <td>JAN 2023</td>\n",
       "      <td>ZQF3</td>\n",
       "      <td>OPT</td>\n",
       "      <td>96.475</td>\n",
       "      <td>-0.01 (-0.01%)</td>\n",
       "      <td>96.485</td>\n",
       "      <td>96.495</td>\n",
       "      <td>96.50</td>\n",
       "      <td>96.45</td>\n",
       "      <td>22,683</td>\n",
       "      <td>16:38:59 CT</td>\n",
       "      <td>19 Aug 2022</td>\n",
       "    </tr>\n",
       "    <tr>\n",
       "      <th>6</th>\n",
       "      <td>FEB 2023</td>\n",
       "      <td>ZQG3</td>\n",
       "      <td>OPT</td>\n",
       "      <td>96.385</td>\n",
       "      <td>-0.005 (-0.01%)</td>\n",
       "      <td>96.39</td>\n",
       "      <td>96.41</td>\n",
       "      <td>96.41</td>\n",
       "      <td>96.35</td>\n",
       "      <td>9,397</td>\n",
       "      <td>16:38:28 CT</td>\n",
       "      <td>19 Aug 2022</td>\n",
       "    </tr>\n",
       "    <tr>\n",
       "      <th>7</th>\n",
       "      <td>MAR 2023</td>\n",
       "      <td>ZQH3</td>\n",
       "      <td>OPT</td>\n",
       "      <td>96.365</td>\n",
       "      <td>-0.005 (-0.01%)</td>\n",
       "      <td>96.37</td>\n",
       "      <td>96.395</td>\n",
       "      <td>96.395</td>\n",
       "      <td>96.33</td>\n",
       "      <td>1,544</td>\n",
       "      <td>16:39:17 CT</td>\n",
       "      <td>19 Aug 2022</td>\n",
       "    </tr>\n",
       "    <tr>\n",
       "      <th>8</th>\n",
       "      <td>APR 2023</td>\n",
       "      <td>ZQJ3</td>\n",
       "      <td>OPT</td>\n",
       "      <td>96.34</td>\n",
       "      <td>UNCH (UNCH)</td>\n",
       "      <td>96.34</td>\n",
       "      <td>96.37</td>\n",
       "      <td>96.37</td>\n",
       "      <td>96.295</td>\n",
       "      <td>4,082</td>\n",
       "      <td>16:38:41 CT</td>\n",
       "      <td>19 Aug 2022</td>\n",
       "    </tr>\n",
       "    <tr>\n",
       "      <th>9</th>\n",
       "      <td>MAY 2023</td>\n",
       "      <td>ZQK3</td>\n",
       "      <td>OPT</td>\n",
       "      <td>96.355</td>\n",
       "      <td>-0.005 (-0.01%)</td>\n",
       "      <td>96.36</td>\n",
       "      <td>96.385</td>\n",
       "      <td>96.385</td>\n",
       "      <td>96.305</td>\n",
       "      <td>3,718</td>\n",
       "      <td>16:39:20 CT</td>\n",
       "      <td>19 Aug 2022</td>\n",
       "    </tr>\n",
       "    <tr>\n",
       "      <th>10</th>\n",
       "      <td>JUN 2023</td>\n",
       "      <td>ZQM3</td>\n",
       "      <td>OPT</td>\n",
       "      <td>96.38</td>\n",
       "      <td>-0.01 (-0.01%)</td>\n",
       "      <td>96.39</td>\n",
       "      <td>96.375</td>\n",
       "      <td>96.38</td>\n",
       "      <td>96.335</td>\n",
       "      <td>874</td>\n",
       "      <td>16:38:32 CT</td>\n",
       "      <td>19 Aug 2022</td>\n",
       "    </tr>\n",
       "    <tr>\n",
       "      <th>11</th>\n",
       "      <td>JUL 2023</td>\n",
       "      <td>ZQN3</td>\n",
       "      <td>OPT</td>\n",
       "      <td>96.425</td>\n",
       "      <td>-0.005 (-0.01%)</td>\n",
       "      <td>96.43</td>\n",
       "      <td>96.46</td>\n",
       "      <td>96.46</td>\n",
       "      <td>96.37</td>\n",
       "      <td>1,651</td>\n",
       "      <td>16:38:00 CT</td>\n",
       "      <td>19 Aug 2022</td>\n",
       "    </tr>\n",
       "    <tr>\n",
       "      <th>12</th>\n",
       "      <td>AUG 2023</td>\n",
       "      <td>ZQQ3</td>\n",
       "      <td>OPT</td>\n",
       "      <td>96.45</td>\n",
       "      <td>-0.03 (-0.03%)</td>\n",
       "      <td>96.48</td>\n",
       "      <td>96.44</td>\n",
       "      <td>96.455</td>\n",
       "      <td>96.42</td>\n",
       "      <td>1,246</td>\n",
       "      <td>16:39:13 CT</td>\n",
       "      <td>19 Aug 2022</td>\n",
       "    </tr>\n",
       "    <tr>\n",
       "      <th>13</th>\n",
       "      <td>SEP 2023</td>\n",
       "      <td>ZQU3</td>\n",
       "      <td>OPT</td>\n",
       "      <td>96.48</td>\n",
       "      <td>-0.03 (-0.03%)</td>\n",
       "      <td>96.51</td>\n",
       "      <td>96.47</td>\n",
       "      <td>96.495</td>\n",
       "      <td>96.45</td>\n",
       "      <td>160</td>\n",
       "      <td>16:37:42 CT</td>\n",
       "      <td>19 Aug 2022</td>\n",
       "    </tr>\n",
       "    <tr>\n",
       "      <th>14</th>\n",
       "      <td>OCT 2023</td>\n",
       "      <td>ZQV3</td>\n",
       "      <td>OPT</td>\n",
       "      <td>96.55</td>\n",
       "      <td>-0.02 (-0.02%)</td>\n",
       "      <td>96.57</td>\n",
       "      <td>96.545</td>\n",
       "      <td>96.555</td>\n",
       "      <td>96.51</td>\n",
       "      <td>270</td>\n",
       "      <td>16:38:20 CT</td>\n",
       "      <td>19 Aug 2022</td>\n",
       "    </tr>\n",
       "    <tr>\n",
       "      <th>15</th>\n",
       "      <td>NOV 2023</td>\n",
       "      <td>ZQX3</td>\n",
       "      <td>OPT</td>\n",
       "      <td>96.62</td>\n",
       "      <td>-0.035 (-0.04%)</td>\n",
       "      <td>96.655</td>\n",
       "      <td>96.605</td>\n",
       "      <td>96.625</td>\n",
       "      <td>96.60</td>\n",
       "      <td>153</td>\n",
       "      <td>16:39:13 CT</td>\n",
       "      <td>19 Aug 2022</td>\n",
       "    </tr>\n",
       "    <tr>\n",
       "      <th>16</th>\n",
       "      <td>DEC 2023</td>\n",
       "      <td>ZQZ3</td>\n",
       "      <td>OPT</td>\n",
       "      <td>96.655</td>\n",
       "      <td>-0.055 (-0.06%)</td>\n",
       "      <td>96.71</td>\n",
       "      <td>96.655</td>\n",
       "      <td>96.67</td>\n",
       "      <td>96.64</td>\n",
       "      <td>20</td>\n",
       "      <td>16:38:01 CT</td>\n",
       "      <td>19 Aug 2022</td>\n",
       "    </tr>\n",
       "    <tr>\n",
       "      <th>17</th>\n",
       "      <td>JAN 2024</td>\n",
       "      <td>ZQF4</td>\n",
       "      <td>OPT</td>\n",
       "      <td>96.695</td>\n",
       "      <td>-0.055 (-0.06%)</td>\n",
       "      <td>96.75</td>\n",
       "      <td>96.70</td>\n",
       "      <td>96.705</td>\n",
       "      <td>96.685</td>\n",
       "      <td>95</td>\n",
       "      <td>16:37:43 CT</td>\n",
       "      <td>19 Aug 2022</td>\n",
       "    </tr>\n",
       "  </tbody>\n",
       "</table>\n",
       "</div>"
      ],
      "text/plain": [
       "       Month ShortCode Options    Last           Change PriorSettle     Open  \\\n",
       "0   AUG 2022      ZQQ2     OPT   97.67   +0.0025 (UNCH)     97.6675  97.6675   \n",
       "1   SEP 2022      ZQU2     OPT   97.47  -0.005 (-0.01%)      97.475   97.475   \n",
       "2   OCT 2022      ZQV2     OPT   97.06  -0.005 (-0.01%)      97.065    97.07   \n",
       "3   NOV 2022      ZQX2     OPT  96.705      UNCH (UNCH)      96.705    96.72   \n",
       "4   DEC 2022      ZQZ2     OPT  96.565  -0.005 (-0.01%)       96.57   96.585   \n",
       "5   JAN 2023      ZQF3     OPT  96.475   -0.01 (-0.01%)      96.485   96.495   \n",
       "6   FEB 2023      ZQG3     OPT  96.385  -0.005 (-0.01%)       96.39    96.41   \n",
       "7   MAR 2023      ZQH3     OPT  96.365  -0.005 (-0.01%)       96.37   96.395   \n",
       "8   APR 2023      ZQJ3     OPT   96.34      UNCH (UNCH)       96.34    96.37   \n",
       "9   MAY 2023      ZQK3     OPT  96.355  -0.005 (-0.01%)       96.36   96.385   \n",
       "10  JUN 2023      ZQM3     OPT   96.38   -0.01 (-0.01%)       96.39   96.375   \n",
       "11  JUL 2023      ZQN3     OPT  96.425  -0.005 (-0.01%)       96.43    96.46   \n",
       "12  AUG 2023      ZQQ3     OPT   96.45   -0.03 (-0.03%)       96.48    96.44   \n",
       "13  SEP 2023      ZQU3     OPT   96.48   -0.03 (-0.03%)       96.51    96.47   \n",
       "14  OCT 2023      ZQV3     OPT   96.55   -0.02 (-0.02%)       96.57   96.545   \n",
       "15  NOV 2023      ZQX3     OPT   96.62  -0.035 (-0.04%)      96.655   96.605   \n",
       "16  DEC 2023      ZQZ3     OPT  96.655  -0.055 (-0.06%)       96.71   96.655   \n",
       "17  JAN 2024      ZQF4     OPT  96.695  -0.055 (-0.06%)       96.75    96.70   \n",
       "\n",
       "      High     Low  Volume  UpdatedTime  UpdatedDate  \n",
       "0    97.67  97.665  13,774  16:39:22 CT  19 Aug 2022  \n",
       "1   97.475  97.465  12,043  16:39:24 CT  19 Aug 2022  \n",
       "2   97.075  97.045  44,918  16:38:56 CT  19 Aug 2022  \n",
       "3    96.72   96.68  18,181  16:37:32 CT  19 Aug 2022  \n",
       "4    96.59  96.545  11,006  16:38:09 CT  19 Aug 2022  \n",
       "5    96.50   96.45  22,683  16:38:59 CT  19 Aug 2022  \n",
       "6    96.41   96.35   9,397  16:38:28 CT  19 Aug 2022  \n",
       "7   96.395   96.33   1,544  16:39:17 CT  19 Aug 2022  \n",
       "8    96.37  96.295   4,082  16:38:41 CT  19 Aug 2022  \n",
       "9   96.385  96.305   3,718  16:39:20 CT  19 Aug 2022  \n",
       "10   96.38  96.335     874  16:38:32 CT  19 Aug 2022  \n",
       "11   96.46   96.37   1,651  16:38:00 CT  19 Aug 2022  \n",
       "12  96.455   96.42   1,246  16:39:13 CT  19 Aug 2022  \n",
       "13  96.495   96.45     160  16:37:42 CT  19 Aug 2022  \n",
       "14  96.555   96.51     270  16:38:20 CT  19 Aug 2022  \n",
       "15  96.625   96.60     153  16:39:13 CT  19 Aug 2022  \n",
       "16   96.67   96.64      20  16:38:01 CT  19 Aug 2022  \n",
       "17  96.705  96.685      95  16:37:43 CT  19 Aug 2022  "
      ]
     },
     "execution_count": 18,
     "metadata": {},
     "output_type": "execute_result"
    }
   ],
   "source": [
    "df = pd.DataFrame(data_list, columns=columns_list)\n",
    "df"
   ]
  },
  {
   "cell_type": "code",
   "execution_count": 19,
   "metadata": {},
   "outputs": [],
   "source": [
    "driver.quit()"
   ]
  },
  {
   "cell_type": "code",
   "execution_count": 24,
   "metadata": {},
   "outputs": [],
   "source": [
    "df['Last'] = df['Last'].astype(float)"
   ]
  },
  {
   "cell_type": "code",
   "execution_count": 28,
   "metadata": {},
   "outputs": [],
   "source": [
    "df['PriorSettle'] = df['PriorSettle'].astype(float)"
   ]
  },
  {
   "cell_type": "markdown",
   "metadata": {},
   "source": [
    "### Type2 이전달에 회의가 없고 이번달에 회의가 있는 경우 (22.9월)테스트"
   ]
  },
  {
   "cell_type": "markdown",
   "metadata": {},
   "source": [
    "기준일: 2022년 8월 19일  \n",
    "22년 8월에는 FOMC회의가 없고 22년 9월 21일 FOMC회의 예정"
   ]
  },
  {
   "cell_type": "code",
   "execution_count": 25,
   "metadata": {},
   "outputs": [],
   "source": [
    "FFF_before = df.iloc[0]   # 22.8월물 FF선물\n",
    "FFF_after = df.iloc[1]    # 22.9월물 FF선물"
   ]
  },
  {
   "cell_type": "code",
   "execution_count": 26,
   "metadata": {},
   "outputs": [
    {
     "data": {
      "text/plain": [
       "97.67"
      ]
     },
     "execution_count": 26,
     "metadata": {},
     "output_type": "execute_result"
    }
   ],
   "source": [
    "FFF_before.Last"
   ]
  },
  {
   "cell_type": "code",
   "execution_count": 27,
   "metadata": {},
   "outputs": [
    {
     "data": {
      "text/plain": [
       "97.47"
      ]
     },
     "execution_count": 27,
     "metadata": {},
     "output_type": "execute_result"
    }
   ],
   "source": [
    "FFF_after.Last"
   ]
  },
  {
   "cell_type": "code",
   "execution_count": 30,
   "metadata": {},
   "outputs": [
    {
     "data": {
      "text/plain": [
       "2.3299999999999983"
      ]
     },
     "execution_count": 30,
     "metadata": {},
     "output_type": "execute_result"
    }
   ],
   "source": [
    "FFER_start = 100 - FFF_before.Last\n",
    "FFER_start"
   ]
  },
  {
   "cell_type": "code",
   "execution_count": 31,
   "metadata": {},
   "outputs": [
    {
     "data": {
      "text/plain": [
       "2.530000000000001"
      ]
     },
     "execution_count": 31,
     "metadata": {},
     "output_type": "execute_result"
    }
   ],
   "source": [
    "ImpliedRate = 100 - FFF_after.Last\n",
    "ImpliedRate"
   ]
  },
  {
   "cell_type": "code",
   "execution_count": 32,
   "metadata": {},
   "outputs": [],
   "source": [
    "N=30 # 9월 일수"
   ]
  },
  {
   "cell_type": "code",
   "execution_count": 33,
   "metadata": {},
   "outputs": [],
   "source": [
    "M=21-1"
   ]
  },
  {
   "cell_type": "code",
   "execution_count": 34,
   "metadata": {},
   "outputs": [
    {
     "data": {
      "text/plain": [
       "2.930000000000007"
      ]
     },
     "execution_count": 34,
     "metadata": {},
     "output_type": "execute_result"
    }
   ],
   "source": [
    "# FFER.End = (N/(N-M)) * [Implied Rate – (M/N)*FFER.Start]\n",
    "FFER_end = N / (N-M) * (ImpliedRate - (M/N) * FFER_start)\n",
    "FFER_end"
   ]
  },
  {
   "cell_type": "code",
   "execution_count": 36,
   "metadata": {},
   "outputs": [
    {
     "data": {
      "text/plain": [
       "2.400000000000034"
      ]
     },
     "execution_count": 36,
     "metadata": {},
     "output_type": "execute_result"
    }
   ],
   "source": [
    "# FFER 금리차이가 25bp 이상이므로 100% 이상 확률 값이 나옴\n",
    "P_hike_25 = (FFER_end - FFER_start) / 0.25\n",
    "P_hike_25"
   ]
  },
  {
   "cell_type": "code",
   "execution_count": 40,
   "metadata": {},
   "outputs": [
    {
     "data": {
      "text/plain": [
       "0.4000000000000341"
      ]
     },
     "execution_count": 40,
     "metadata": {},
     "output_type": "execute_result"
    }
   ],
   "source": [
    "# 다음 인상 구간인 75bp 인상확률을 구하기 위해서 50bp 빼고 계산\n",
    "P_hike_75 = (FFER_end - FFER_start - 0.50) / 0.25\n",
    "P_hike_75"
   ]
  },
  {
   "cell_type": "code",
   "execution_count": 42,
   "metadata": {},
   "outputs": [
    {
     "data": {
      "text/plain": [
       "0.5999999999999659"
      ]
     },
     "execution_count": 42,
     "metadata": {},
     "output_type": "execute_result"
    }
   ],
   "source": [
    "P_hike_50 = 1 - P_hike_75\n",
    "P_hike_50"
   ]
  },
  {
   "cell_type": "markdown",
   "metadata": {},
   "source": [
    "### Type2 이전달에 회의가 없고 이번달에 회의가 있는 경우 (22.11월) 테스트"
   ]
  },
  {
   "cell_type": "markdown",
   "metadata": {},
   "source": [
    "기준일: 2022년 8월 19일  \n",
    "22년 10월에는 FOMC회의가 없고 22년 11월 2일 FOMC회의 예정"
   ]
  },
  {
   "cell_type": "code",
   "execution_count": 43,
   "metadata": {},
   "outputs": [],
   "source": [
    "FFF_before = df.iloc[2]   # 22.10월물 FF선물\n",
    "FFF_after = df.iloc[3]    # 22.11월물 FF선물"
   ]
  },
  {
   "cell_type": "code",
   "execution_count": null,
   "metadata": {},
   "outputs": [],
   "source": []
  }
 ],
 "metadata": {
  "kernelspec": {
   "display_name": "Python 3",
   "language": "python",
   "name": "python3"
  },
  "language_info": {
   "codemirror_mode": {
    "name": "ipython",
    "version": 3
   },
   "file_extension": ".py",
   "mimetype": "text/x-python",
   "name": "python",
   "nbconvert_exporter": "python",
   "pygments_lexer": "ipython3",
   "version": "3.7.0"
  }
 },
 "nbformat": 4,
 "nbformat_minor": 2
}
