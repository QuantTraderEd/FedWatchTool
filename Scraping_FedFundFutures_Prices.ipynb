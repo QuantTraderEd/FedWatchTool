{
 "cells": [
  {
   "cell_type": "code",
   "execution_count": 1,
   "metadata": {},
   "outputs": [
    {
     "name": "stderr",
     "output_type": "stream",
     "text": [
      "/Users/assa/.pyenv/versions/anaconda3-5.3.1/lib/python3.7/site-packages/requests/__init__.py:91: RequestsDependencyWarning: urllib3 (1.26.11) or chardet (3.0.4) doesn't match a supported version!\n",
      "  RequestsDependencyWarning)\n"
     ]
    }
   ],
   "source": [
    "import datetime as dt\n",
    "import requests\n",
    "import selenium\n",
    "import pandas as pd\n",
    "import matplotlib.pyplot as plt\n",
    "\n",
    "\n",
    "from bs4 import BeautifulSoup\n",
    "from selenium import webdriver\n",
    "from selenium.webdriver.common.by import By as BY\n",
    "from selenium.webdriver.firefox.options import Options"
   ]
  },
  {
   "cell_type": "code",
   "execution_count": 2,
   "metadata": {},
   "outputs": [
    {
     "data": {
      "text/plain": [
       "'1.1.5'"
      ]
     },
     "execution_count": 2,
     "metadata": {},
     "output_type": "execute_result"
    }
   ],
   "source": [
    "pd.__version__"
   ]
  },
  {
   "cell_type": "code",
   "execution_count": 3,
   "metadata": {},
   "outputs": [
    {
     "data": {
      "text/plain": [
       "'4.4.0'"
      ]
     },
     "execution_count": 3,
     "metadata": {},
     "output_type": "execute_result"
    }
   ],
   "source": [
    "selenium.__version__"
   ]
  },
  {
   "cell_type": "markdown",
   "metadata": {},
   "source": [
    "###  CME 시장 사이트에서 가격 수집"
   ]
  },
  {
   "cell_type": "code",
   "execution_count": 4,
   "metadata": {},
   "outputs": [],
   "source": [
    "url = \"https://www.cmegroup.com/markets/interest-rates/stirs/30-day-federal-fund.quotes.html\""
   ]
  },
  {
   "cell_type": "code",
   "execution_count": 5,
   "metadata": {},
   "outputs": [],
   "source": [
    "# read timeout 발생\n",
    "# r = requests.get(url, timeout=30)"
   ]
  },
  {
   "cell_type": "code",
   "execution_count": 6,
   "metadata": {},
   "outputs": [],
   "source": [
    "options = Options()\n",
    "options.headless = True\n",
    "# options.add_argument('--blink-settings=imagesEnabled=false')\n",
    "options.add_argument('incognito')\n",
    "driver = webdriver.Firefox(options=options)"
   ]
  },
  {
   "cell_type": "code",
   "execution_count": 7,
   "metadata": {},
   "outputs": [],
   "source": [
    "driver.implicitly_wait(30)"
   ]
  },
  {
   "cell_type": "code",
   "execution_count": 8,
   "metadata": {},
   "outputs": [],
   "source": [
    "driver.get(url)"
   ]
  },
  {
   "cell_type": "code",
   "execution_count": 9,
   "metadata": {},
   "outputs": [],
   "source": [
    "html = driver.page_source"
   ]
  },
  {
   "cell_type": "code",
   "execution_count": 10,
   "metadata": {},
   "outputs": [],
   "source": [
    "# soup = BeautifulSoup(html, 'html.parser')\n",
    "# target_table = soup.find('div', {'class': 'main-table-wrapper'})"
   ]
  },
  {
   "cell_type": "code",
   "execution_count": 11,
   "metadata": {},
   "outputs": [],
   "source": [
    "target_table = driver.find_element(BY.CLASS_NAME, 'main-table-wrapper')"
   ]
  },
  {
   "cell_type": "code",
   "execution_count": 12,
   "metadata": {},
   "outputs": [],
   "source": [
    "# table_rows = target_table.find_elements(BY.CLASS_NAME, 'table-row-animate')"
   ]
  },
  {
   "cell_type": "code",
   "execution_count": 13,
   "metadata": {},
   "outputs": [],
   "source": [
    "data_text = target_table.text"
   ]
  },
  {
   "cell_type": "code",
   "execution_count": 14,
   "metadata": {},
   "outputs": [],
   "source": [
    "table_rows = data_text.split('\\n\\n')"
   ]
  },
  {
   "cell_type": "code",
   "execution_count": 15,
   "metadata": {},
   "outputs": [],
   "source": [
    "table_data = table_rows[1].split('\\n')"
   ]
  },
  {
   "cell_type": "code",
   "execution_count": 16,
   "metadata": {},
   "outputs": [
    {
     "name": "stdout",
     "output_type": "stream",
     "text": [
      "['AUG 2022', 'ZQQ2', 'OPT', '97.6675', 'UNCH (UNCH)', '97.6675', '97.67', '97.67', '97.6675', '826', '08:53:39 CT', '29 Aug 2022']\n",
      "['SEP 2022', 'ZQU2', 'OPT', '97.4675', '+0.0025 (UNCH)', '97.465', '97.465', '97.47', '97.455', '10,369', '09:06:10 CT', '29 Aug 2022']\n",
      "['OCT 2022', 'ZQV2', 'OPT', '97.005', '-0.01 (-0.01%)', '97.015', '97.01', '97.01', '96.975', '18,109', '09:05:26 CT', '29 Aug 2022']\n",
      "['NOV 2022', 'ZQX2', 'OPT', '96.59', '-0.01 (-0.01%)', '96.60', '96.60', '96.60', '96.56', '26,173', '09:06:21 CT', '29 Aug 2022']\n",
      "['DEC 2022', 'ZQZ2', 'OPT', '96.43', '-0.015 (-0.02%)', '96.445', '96.44', '96.44', '96.395', '4,680', '09:06:11 CT', '29 Aug 2022']\n",
      "['JAN 2023', 'ZQF3', 'OPT', '96.335', '-0.02 (-0.02%)', '96.355', '96.345', '96.345', '96.29', '18,376', '09:05:51 CT', '29 Aug 2022']\n",
      "['FEB 2023', 'ZQG3', 'OPT', '96.245', '-0.015 (-0.02%)', '96.26', '96.245', '96.25', '96.175', '8,626', '09:06:09 CT', '29 Aug 2022']\n",
      "['MAR 2023', 'ZQH3', 'OPT', '96.225', '-0.015 (-0.02%)', '96.24', '96.215', '96.225', '96.155', '1,878', '09:06:09 CT', '29 Aug 2022']\n",
      "['APR 2023', 'ZQJ3', 'OPT', '96.195', '-0.01 (-0.01%)', '96.205', '96.205', '96.205', '96.105', '7,067', '09:06:09 CT', '29 Aug 2022']\n",
      "['MAY 2023', 'ZQK3', 'OPT', '96.20', '-0.01 (-0.01%)', '96.21', '96.19', '96.20', '96.105', '2,850', '09:05:51 CT', '29 Aug 2022']\n",
      "['JUN 2023', 'ZQM3', 'OPT', '96.22', '-0.015 (-0.02%)', '96.235', '96.21', '96.225', '96.135', '796', '09:05:51 CT', '29 Aug 2022']\n",
      "['JUL 2023', 'ZQN3', 'OPT', '96.24', '-0.025 (-0.03%)', '96.265', '96.23', '96.245', '96.15', '3,517', '09:05:51 CT', '29 Aug 2022']\n",
      "['AUG 2023', 'ZQQ3', 'OPT', '96.265', '-0.035 (-0.04%)', '96.30', '96.27', '96.275', '96.17', '1,263', '09:04:41 CT', '29 Aug 2022']\n",
      "['SEP 2023', 'ZQU3', 'OPT', '96.29', '-0.04 (-0.04%)', '96.33', '96.255', '96.30', '96.20', '290', '09:05:03 CT', '29 Aug 2022']\n",
      "['OCT 2023', 'ZQV3', 'OPT', '96.345', '-0.045 (-0.05%)', '96.39', '96.355', '96.355', '96.26', '1,283', '09:05:03 CT', '29 Aug 2022']\n",
      "['NOV 2023', 'ZQX3', 'OPT', '96.405', '-0.06 (-0.06%)', '96.465', '96.42', '96.42', '96.33', '132', '08:45:55 CT', '29 Aug 2022']\n",
      "['DEC 2023', 'ZQZ3', 'OPT', '96.415', '-0.10 (-0.10%)', '96.515', '96.415', '96.415', '96.415', '30', '19:28:05 CT', '28 Aug 2022']\n",
      "['JAN 2024', 'ZQF4', 'OPT', '96.475', '-0.075 (-0.08%)', '96.55', '96.415', '96.48', '96.415', '31', '09:00:23 CT', '29 Aug 2022']\n"
     ]
    }
   ],
   "source": [
    "data_list = list()\n",
    "for i in range(int(len(table_data)/12)):\n",
    "    row_data = table_data[i*12:(i+1)*12]\n",
    "    print(row_data)\n",
    "    data_list.append(row_data)"
   ]
  },
  {
   "cell_type": "code",
   "execution_count": 17,
   "metadata": {},
   "outputs": [],
   "source": [
    "columns_list = [\n",
    "    'Month',\n",
    "    'ShortCode',\n",
    "    'Options',\n",
    "    'Last',\n",
    "    'Change',\n",
    "    'PriorSettle',\n",
    "    'Open',\n",
    "    'High',\n",
    "    'Low',\n",
    "    'Volume',\n",
    "    'UpdatedTime',\n",
    "    'UpdatedDate'\n",
    "]"
   ]
  },
  {
   "cell_type": "code",
   "execution_count": 18,
   "metadata": {},
   "outputs": [
    {
     "data": {
      "text/html": [
       "<div>\n",
       "<style scoped>\n",
       "    .dataframe tbody tr th:only-of-type {\n",
       "        vertical-align: middle;\n",
       "    }\n",
       "\n",
       "    .dataframe tbody tr th {\n",
       "        vertical-align: top;\n",
       "    }\n",
       "\n",
       "    .dataframe thead th {\n",
       "        text-align: right;\n",
       "    }\n",
       "</style>\n",
       "<table border=\"1\" class=\"dataframe\">\n",
       "  <thead>\n",
       "    <tr style=\"text-align: right;\">\n",
       "      <th></th>\n",
       "      <th>Month</th>\n",
       "      <th>ShortCode</th>\n",
       "      <th>Options</th>\n",
       "      <th>Last</th>\n",
       "      <th>Change</th>\n",
       "      <th>PriorSettle</th>\n",
       "      <th>Open</th>\n",
       "      <th>High</th>\n",
       "      <th>Low</th>\n",
       "      <th>Volume</th>\n",
       "      <th>UpdatedTime</th>\n",
       "      <th>UpdatedDate</th>\n",
       "    </tr>\n",
       "  </thead>\n",
       "  <tbody>\n",
       "    <tr>\n",
       "      <th>0</th>\n",
       "      <td>AUG 2022</td>\n",
       "      <td>ZQQ2</td>\n",
       "      <td>OPT</td>\n",
       "      <td>97.6675</td>\n",
       "      <td>UNCH (UNCH)</td>\n",
       "      <td>97.6675</td>\n",
       "      <td>97.67</td>\n",
       "      <td>97.67</td>\n",
       "      <td>97.6675</td>\n",
       "      <td>826</td>\n",
       "      <td>08:53:39 CT</td>\n",
       "      <td>29 Aug 2022</td>\n",
       "    </tr>\n",
       "    <tr>\n",
       "      <th>1</th>\n",
       "      <td>SEP 2022</td>\n",
       "      <td>ZQU2</td>\n",
       "      <td>OPT</td>\n",
       "      <td>97.4675</td>\n",
       "      <td>+0.0025 (UNCH)</td>\n",
       "      <td>97.465</td>\n",
       "      <td>97.465</td>\n",
       "      <td>97.47</td>\n",
       "      <td>97.455</td>\n",
       "      <td>10,369</td>\n",
       "      <td>09:06:10 CT</td>\n",
       "      <td>29 Aug 2022</td>\n",
       "    </tr>\n",
       "    <tr>\n",
       "      <th>2</th>\n",
       "      <td>OCT 2022</td>\n",
       "      <td>ZQV2</td>\n",
       "      <td>OPT</td>\n",
       "      <td>97.005</td>\n",
       "      <td>-0.01 (-0.01%)</td>\n",
       "      <td>97.015</td>\n",
       "      <td>97.01</td>\n",
       "      <td>97.01</td>\n",
       "      <td>96.975</td>\n",
       "      <td>18,109</td>\n",
       "      <td>09:05:26 CT</td>\n",
       "      <td>29 Aug 2022</td>\n",
       "    </tr>\n",
       "    <tr>\n",
       "      <th>3</th>\n",
       "      <td>NOV 2022</td>\n",
       "      <td>ZQX2</td>\n",
       "      <td>OPT</td>\n",
       "      <td>96.59</td>\n",
       "      <td>-0.01 (-0.01%)</td>\n",
       "      <td>96.60</td>\n",
       "      <td>96.60</td>\n",
       "      <td>96.60</td>\n",
       "      <td>96.56</td>\n",
       "      <td>26,173</td>\n",
       "      <td>09:06:21 CT</td>\n",
       "      <td>29 Aug 2022</td>\n",
       "    </tr>\n",
       "    <tr>\n",
       "      <th>4</th>\n",
       "      <td>DEC 2022</td>\n",
       "      <td>ZQZ2</td>\n",
       "      <td>OPT</td>\n",
       "      <td>96.43</td>\n",
       "      <td>-0.015 (-0.02%)</td>\n",
       "      <td>96.445</td>\n",
       "      <td>96.44</td>\n",
       "      <td>96.44</td>\n",
       "      <td>96.395</td>\n",
       "      <td>4,680</td>\n",
       "      <td>09:06:11 CT</td>\n",
       "      <td>29 Aug 2022</td>\n",
       "    </tr>\n",
       "    <tr>\n",
       "      <th>5</th>\n",
       "      <td>JAN 2023</td>\n",
       "      <td>ZQF3</td>\n",
       "      <td>OPT</td>\n",
       "      <td>96.335</td>\n",
       "      <td>-0.02 (-0.02%)</td>\n",
       "      <td>96.355</td>\n",
       "      <td>96.345</td>\n",
       "      <td>96.345</td>\n",
       "      <td>96.29</td>\n",
       "      <td>18,376</td>\n",
       "      <td>09:05:51 CT</td>\n",
       "      <td>29 Aug 2022</td>\n",
       "    </tr>\n",
       "    <tr>\n",
       "      <th>6</th>\n",
       "      <td>FEB 2023</td>\n",
       "      <td>ZQG3</td>\n",
       "      <td>OPT</td>\n",
       "      <td>96.245</td>\n",
       "      <td>-0.015 (-0.02%)</td>\n",
       "      <td>96.26</td>\n",
       "      <td>96.245</td>\n",
       "      <td>96.25</td>\n",
       "      <td>96.175</td>\n",
       "      <td>8,626</td>\n",
       "      <td>09:06:09 CT</td>\n",
       "      <td>29 Aug 2022</td>\n",
       "    </tr>\n",
       "    <tr>\n",
       "      <th>7</th>\n",
       "      <td>MAR 2023</td>\n",
       "      <td>ZQH3</td>\n",
       "      <td>OPT</td>\n",
       "      <td>96.225</td>\n",
       "      <td>-0.015 (-0.02%)</td>\n",
       "      <td>96.24</td>\n",
       "      <td>96.215</td>\n",
       "      <td>96.225</td>\n",
       "      <td>96.155</td>\n",
       "      <td>1,878</td>\n",
       "      <td>09:06:09 CT</td>\n",
       "      <td>29 Aug 2022</td>\n",
       "    </tr>\n",
       "    <tr>\n",
       "      <th>8</th>\n",
       "      <td>APR 2023</td>\n",
       "      <td>ZQJ3</td>\n",
       "      <td>OPT</td>\n",
       "      <td>96.195</td>\n",
       "      <td>-0.01 (-0.01%)</td>\n",
       "      <td>96.205</td>\n",
       "      <td>96.205</td>\n",
       "      <td>96.205</td>\n",
       "      <td>96.105</td>\n",
       "      <td>7,067</td>\n",
       "      <td>09:06:09 CT</td>\n",
       "      <td>29 Aug 2022</td>\n",
       "    </tr>\n",
       "    <tr>\n",
       "      <th>9</th>\n",
       "      <td>MAY 2023</td>\n",
       "      <td>ZQK3</td>\n",
       "      <td>OPT</td>\n",
       "      <td>96.20</td>\n",
       "      <td>-0.01 (-0.01%)</td>\n",
       "      <td>96.21</td>\n",
       "      <td>96.19</td>\n",
       "      <td>96.20</td>\n",
       "      <td>96.105</td>\n",
       "      <td>2,850</td>\n",
       "      <td>09:05:51 CT</td>\n",
       "      <td>29 Aug 2022</td>\n",
       "    </tr>\n",
       "    <tr>\n",
       "      <th>10</th>\n",
       "      <td>JUN 2023</td>\n",
       "      <td>ZQM3</td>\n",
       "      <td>OPT</td>\n",
       "      <td>96.22</td>\n",
       "      <td>-0.015 (-0.02%)</td>\n",
       "      <td>96.235</td>\n",
       "      <td>96.21</td>\n",
       "      <td>96.225</td>\n",
       "      <td>96.135</td>\n",
       "      <td>796</td>\n",
       "      <td>09:05:51 CT</td>\n",
       "      <td>29 Aug 2022</td>\n",
       "    </tr>\n",
       "    <tr>\n",
       "      <th>11</th>\n",
       "      <td>JUL 2023</td>\n",
       "      <td>ZQN3</td>\n",
       "      <td>OPT</td>\n",
       "      <td>96.24</td>\n",
       "      <td>-0.025 (-0.03%)</td>\n",
       "      <td>96.265</td>\n",
       "      <td>96.23</td>\n",
       "      <td>96.245</td>\n",
       "      <td>96.15</td>\n",
       "      <td>3,517</td>\n",
       "      <td>09:05:51 CT</td>\n",
       "      <td>29 Aug 2022</td>\n",
       "    </tr>\n",
       "    <tr>\n",
       "      <th>12</th>\n",
       "      <td>AUG 2023</td>\n",
       "      <td>ZQQ3</td>\n",
       "      <td>OPT</td>\n",
       "      <td>96.265</td>\n",
       "      <td>-0.035 (-0.04%)</td>\n",
       "      <td>96.30</td>\n",
       "      <td>96.27</td>\n",
       "      <td>96.275</td>\n",
       "      <td>96.17</td>\n",
       "      <td>1,263</td>\n",
       "      <td>09:04:41 CT</td>\n",
       "      <td>29 Aug 2022</td>\n",
       "    </tr>\n",
       "    <tr>\n",
       "      <th>13</th>\n",
       "      <td>SEP 2023</td>\n",
       "      <td>ZQU3</td>\n",
       "      <td>OPT</td>\n",
       "      <td>96.29</td>\n",
       "      <td>-0.04 (-0.04%)</td>\n",
       "      <td>96.33</td>\n",
       "      <td>96.255</td>\n",
       "      <td>96.30</td>\n",
       "      <td>96.20</td>\n",
       "      <td>290</td>\n",
       "      <td>09:05:03 CT</td>\n",
       "      <td>29 Aug 2022</td>\n",
       "    </tr>\n",
       "    <tr>\n",
       "      <th>14</th>\n",
       "      <td>OCT 2023</td>\n",
       "      <td>ZQV3</td>\n",
       "      <td>OPT</td>\n",
       "      <td>96.345</td>\n",
       "      <td>-0.045 (-0.05%)</td>\n",
       "      <td>96.39</td>\n",
       "      <td>96.355</td>\n",
       "      <td>96.355</td>\n",
       "      <td>96.26</td>\n",
       "      <td>1,283</td>\n",
       "      <td>09:05:03 CT</td>\n",
       "      <td>29 Aug 2022</td>\n",
       "    </tr>\n",
       "    <tr>\n",
       "      <th>15</th>\n",
       "      <td>NOV 2023</td>\n",
       "      <td>ZQX3</td>\n",
       "      <td>OPT</td>\n",
       "      <td>96.405</td>\n",
       "      <td>-0.06 (-0.06%)</td>\n",
       "      <td>96.465</td>\n",
       "      <td>96.42</td>\n",
       "      <td>96.42</td>\n",
       "      <td>96.33</td>\n",
       "      <td>132</td>\n",
       "      <td>08:45:55 CT</td>\n",
       "      <td>29 Aug 2022</td>\n",
       "    </tr>\n",
       "    <tr>\n",
       "      <th>16</th>\n",
       "      <td>DEC 2023</td>\n",
       "      <td>ZQZ3</td>\n",
       "      <td>OPT</td>\n",
       "      <td>96.415</td>\n",
       "      <td>-0.10 (-0.10%)</td>\n",
       "      <td>96.515</td>\n",
       "      <td>96.415</td>\n",
       "      <td>96.415</td>\n",
       "      <td>96.415</td>\n",
       "      <td>30</td>\n",
       "      <td>19:28:05 CT</td>\n",
       "      <td>28 Aug 2022</td>\n",
       "    </tr>\n",
       "    <tr>\n",
       "      <th>17</th>\n",
       "      <td>JAN 2024</td>\n",
       "      <td>ZQF4</td>\n",
       "      <td>OPT</td>\n",
       "      <td>96.475</td>\n",
       "      <td>-0.075 (-0.08%)</td>\n",
       "      <td>96.55</td>\n",
       "      <td>96.415</td>\n",
       "      <td>96.48</td>\n",
       "      <td>96.415</td>\n",
       "      <td>31</td>\n",
       "      <td>09:00:23 CT</td>\n",
       "      <td>29 Aug 2022</td>\n",
       "    </tr>\n",
       "  </tbody>\n",
       "</table>\n",
       "</div>"
      ],
      "text/plain": [
       "       Month ShortCode Options     Last           Change PriorSettle    Open  \\\n",
       "0   AUG 2022      ZQQ2     OPT  97.6675      UNCH (UNCH)     97.6675   97.67   \n",
       "1   SEP 2022      ZQU2     OPT  97.4675   +0.0025 (UNCH)      97.465  97.465   \n",
       "2   OCT 2022      ZQV2     OPT   97.005   -0.01 (-0.01%)      97.015   97.01   \n",
       "3   NOV 2022      ZQX2     OPT    96.59   -0.01 (-0.01%)       96.60   96.60   \n",
       "4   DEC 2022      ZQZ2     OPT    96.43  -0.015 (-0.02%)      96.445   96.44   \n",
       "5   JAN 2023      ZQF3     OPT   96.335   -0.02 (-0.02%)      96.355  96.345   \n",
       "6   FEB 2023      ZQG3     OPT   96.245  -0.015 (-0.02%)       96.26  96.245   \n",
       "7   MAR 2023      ZQH3     OPT   96.225  -0.015 (-0.02%)       96.24  96.215   \n",
       "8   APR 2023      ZQJ3     OPT   96.195   -0.01 (-0.01%)      96.205  96.205   \n",
       "9   MAY 2023      ZQK3     OPT    96.20   -0.01 (-0.01%)       96.21   96.19   \n",
       "10  JUN 2023      ZQM3     OPT    96.22  -0.015 (-0.02%)      96.235   96.21   \n",
       "11  JUL 2023      ZQN3     OPT    96.24  -0.025 (-0.03%)      96.265   96.23   \n",
       "12  AUG 2023      ZQQ3     OPT   96.265  -0.035 (-0.04%)       96.30   96.27   \n",
       "13  SEP 2023      ZQU3     OPT    96.29   -0.04 (-0.04%)       96.33  96.255   \n",
       "14  OCT 2023      ZQV3     OPT   96.345  -0.045 (-0.05%)       96.39  96.355   \n",
       "15  NOV 2023      ZQX3     OPT   96.405   -0.06 (-0.06%)      96.465   96.42   \n",
       "16  DEC 2023      ZQZ3     OPT   96.415   -0.10 (-0.10%)      96.515  96.415   \n",
       "17  JAN 2024      ZQF4     OPT   96.475  -0.075 (-0.08%)       96.55  96.415   \n",
       "\n",
       "      High      Low  Volume  UpdatedTime  UpdatedDate  \n",
       "0    97.67  97.6675     826  08:53:39 CT  29 Aug 2022  \n",
       "1    97.47   97.455  10,369  09:06:10 CT  29 Aug 2022  \n",
       "2    97.01   96.975  18,109  09:05:26 CT  29 Aug 2022  \n",
       "3    96.60    96.56  26,173  09:06:21 CT  29 Aug 2022  \n",
       "4    96.44   96.395   4,680  09:06:11 CT  29 Aug 2022  \n",
       "5   96.345    96.29  18,376  09:05:51 CT  29 Aug 2022  \n",
       "6    96.25   96.175   8,626  09:06:09 CT  29 Aug 2022  \n",
       "7   96.225   96.155   1,878  09:06:09 CT  29 Aug 2022  \n",
       "8   96.205   96.105   7,067  09:06:09 CT  29 Aug 2022  \n",
       "9    96.20   96.105   2,850  09:05:51 CT  29 Aug 2022  \n",
       "10  96.225   96.135     796  09:05:51 CT  29 Aug 2022  \n",
       "11  96.245    96.15   3,517  09:05:51 CT  29 Aug 2022  \n",
       "12  96.275    96.17   1,263  09:04:41 CT  29 Aug 2022  \n",
       "13   96.30    96.20     290  09:05:03 CT  29 Aug 2022  \n",
       "14  96.355    96.26   1,283  09:05:03 CT  29 Aug 2022  \n",
       "15   96.42    96.33     132  08:45:55 CT  29 Aug 2022  \n",
       "16  96.415   96.415      30  19:28:05 CT  28 Aug 2022  \n",
       "17   96.48   96.415      31  09:00:23 CT  29 Aug 2022  "
      ]
     },
     "execution_count": 18,
     "metadata": {},
     "output_type": "execute_result"
    }
   ],
   "source": [
    "df = pd.DataFrame(data_list, columns=columns_list)\n",
    "df"
   ]
  },
  {
   "cell_type": "code",
   "execution_count": 19,
   "metadata": {},
   "outputs": [],
   "source": [
    "driver.quit()"
   ]
  },
  {
   "cell_type": "code",
   "execution_count": 20,
   "metadata": {},
   "outputs": [],
   "source": [
    "df = df[df['Last'] != '-']"
   ]
  },
  {
   "cell_type": "code",
   "execution_count": 21,
   "metadata": {},
   "outputs": [],
   "source": [
    "df['Last'] = df['Last'].astype(float)"
   ]
  },
  {
   "cell_type": "code",
   "execution_count": 22,
   "metadata": {},
   "outputs": [],
   "source": [
    "df['PriorSettle'] = df['PriorSettle'].astype(float)"
   ]
  },
  {
   "cell_type": "code",
   "execution_count": 23,
   "metadata": {},
   "outputs": [
    {
     "name": "stdout",
     "output_type": "stream",
     "text": [
      "기준일:  29 Aug 2022\n"
     ]
    }
   ],
   "source": [
    "now_dt = df.iloc[0]['UpdatedDate']\n",
    "print(\"기준일: \", now_dt)"
   ]
  },
  {
   "cell_type": "code",
   "execution_count": 24,
   "metadata": {},
   "outputs": [],
   "source": [
    "now_dt = dt.datetime.strptime(now_dt, \"%d %b %Y\")"
   ]
  },
  {
   "cell_type": "markdown",
   "metadata": {},
   "source": [
    "### Type2 이전달에 회의가 없고 이번달에 회의가 있는 경우 (22.9월)테스트"
   ]
  },
  {
   "cell_type": "markdown",
   "metadata": {},
   "source": [
    "22년 8월에는 FOMC회의가 없고 22년 9월 21일 FOMC회의 예정"
   ]
  },
  {
   "cell_type": "code",
   "execution_count": 25,
   "metadata": {},
   "outputs": [],
   "source": [
    "FFF_before = df.iloc[0]   # 22.8월물 FF선물\n",
    "FFF_after = df.iloc[1]    # 22.9월물 FF선물"
   ]
  },
  {
   "cell_type": "code",
   "execution_count": 26,
   "metadata": {},
   "outputs": [
    {
     "data": {
      "text/plain": [
       "97.6675"
      ]
     },
     "execution_count": 26,
     "metadata": {},
     "output_type": "execute_result"
    }
   ],
   "source": [
    "FFF_before.Last"
   ]
  },
  {
   "cell_type": "code",
   "execution_count": 27,
   "metadata": {},
   "outputs": [
    {
     "data": {
      "text/plain": [
       "97.4675"
      ]
     },
     "execution_count": 27,
     "metadata": {},
     "output_type": "execute_result"
    }
   ],
   "source": [
    "FFF_after.Last"
   ]
  },
  {
   "cell_type": "code",
   "execution_count": 28,
   "metadata": {},
   "outputs": [
    {
     "data": {
      "text/plain": [
       "2.332499999999996"
      ]
     },
     "execution_count": 28,
     "metadata": {},
     "output_type": "execute_result"
    }
   ],
   "source": [
    "FFER_start = 100 - FFF_before.Last\n",
    "FFER_start"
   ]
  },
  {
   "cell_type": "code",
   "execution_count": 29,
   "metadata": {},
   "outputs": [
    {
     "data": {
      "text/plain": [
       "2.532499999999999"
      ]
     },
     "execution_count": 29,
     "metadata": {},
     "output_type": "execute_result"
    }
   ],
   "source": [
    "ImpliedRate = 100 - FFF_after.Last\n",
    "ImpliedRate"
   ]
  },
  {
   "cell_type": "code",
   "execution_count": 30,
   "metadata": {},
   "outputs": [],
   "source": [
    "N=30 # 9월 일수"
   ]
  },
  {
   "cell_type": "code",
   "execution_count": 31,
   "metadata": {},
   "outputs": [],
   "source": [
    "M=21-1"
   ]
  },
  {
   "cell_type": "code",
   "execution_count": 32,
   "metadata": {},
   "outputs": [
    {
     "data": {
      "text/plain": [
       "2.9325000000000045"
      ]
     },
     "execution_count": 32,
     "metadata": {},
     "output_type": "execute_result"
    }
   ],
   "source": [
    "# FFER.End = (N/(N-M)) * [Implied Rate – (M/N)*FFER.Start]\n",
    "FFER_end = N / (N-M) * (ImpliedRate - (M/N) * FFER_start)\n",
    "FFER_end"
   ]
  },
  {
   "cell_type": "code",
   "execution_count": 33,
   "metadata": {},
   "outputs": [
    {
     "data": {
      "text/plain": [
       "2.400000000000034"
      ]
     },
     "execution_count": 33,
     "metadata": {},
     "output_type": "execute_result"
    }
   ],
   "source": [
    "# FFER 금리차이가 25bp 이상이므로 100% 이상 확률 값이 나옴\n",
    "P_hike_25 = (FFER_end - FFER_start) / 0.25\n",
    "P_hike_25"
   ]
  },
  {
   "cell_type": "markdown",
   "metadata": {},
   "source": [
    "Example: Due to high implied rate in futures contract, calculated probability is 104% probability of a 25 bps rate hike, with a -4% probability of no change. Using a formula, this will be redistributed and shown as P(NoHike)=0%, P(25bpHike) = 96%, and P(50bpHike) = 4%"
   ]
  },
  {
   "cell_type": "code",
   "execution_count": 34,
   "metadata": {},
   "outputs": [
    {
     "data": {
      "text/plain": [
       "0.4000000000000341"
      ]
     },
     "execution_count": 34,
     "metadata": {},
     "output_type": "execute_result"
    }
   ],
   "source": [
    "# 100% 이상 확률은 상위 확률로 제조정\n",
    "# P_NoHike = 0\n",
    "# P_25Hike = 0\n",
    "# P_75Hike = 49%\n",
    "# P_50Hike = 1 - P_75Hike = 51%\n",
    "P_hike_75 = (FFER_end - FFER_start - 0.50) / 0.25\n",
    "P_hike_75"
   ]
  },
  {
   "cell_type": "code",
   "execution_count": 35,
   "metadata": {},
   "outputs": [
    {
     "data": {
      "text/plain": [
       "0.5999999999999659"
      ]
     },
     "execution_count": 35,
     "metadata": {},
     "output_type": "execute_result"
    }
   ],
   "source": [
    "P_hike_50 = 1 - P_hike_75\n",
    "P_hike_50"
   ]
  },
  {
   "cell_type": "markdown",
   "metadata": {},
   "source": [
    "### Type2 이전달에 회의가 없고 이번달에 회의가 있는 경우 (22.11월) 테스트"
   ]
  },
  {
   "cell_type": "markdown",
   "metadata": {},
   "source": [
    "22년 10월에는 FOMC회의가 없고 22년 11월 2일 FOMC회의 예정"
   ]
  },
  {
   "cell_type": "code",
   "execution_count": 36,
   "metadata": {},
   "outputs": [],
   "source": [
    "FFF_before = df.iloc[2]   # 22.10월물 FF선물\n",
    "FFF_after = df.iloc[3]    # 22.11월물 FF선물"
   ]
  },
  {
   "cell_type": "code",
   "execution_count": 37,
   "metadata": {},
   "outputs": [
    {
     "data": {
      "text/plain": [
       "97.005"
      ]
     },
     "execution_count": 37,
     "metadata": {},
     "output_type": "execute_result"
    }
   ],
   "source": [
    "FFF_before.Last"
   ]
  },
  {
   "cell_type": "code",
   "execution_count": 38,
   "metadata": {},
   "outputs": [
    {
     "data": {
      "text/plain": [
       "96.59"
      ]
     },
     "execution_count": 38,
     "metadata": {},
     "output_type": "execute_result"
    }
   ],
   "source": [
    "FFF_after.Last"
   ]
  },
  {
   "cell_type": "code",
   "execution_count": 39,
   "metadata": {},
   "outputs": [
    {
     "data": {
      "text/plain": [
       "2.9950000000000045"
      ]
     },
     "execution_count": 39,
     "metadata": {},
     "output_type": "execute_result"
    }
   ],
   "source": [
    "FFER_start = 100 - FFF_before.Last\n",
    "FFER_start"
   ]
  },
  {
   "cell_type": "code",
   "execution_count": 40,
   "metadata": {},
   "outputs": [
    {
     "data": {
      "text/plain": [
       "3.4099999999999966"
      ]
     },
     "execution_count": 40,
     "metadata": {},
     "output_type": "execute_result"
    }
   ],
   "source": [
    "ImpliedRate = 100 - FFF_after.Last\n",
    "ImpliedRate"
   ]
  },
  {
   "cell_type": "code",
   "execution_count": 41,
   "metadata": {},
   "outputs": [],
   "source": [
    "N=30 # 11월 일수"
   ]
  },
  {
   "cell_type": "code",
   "execution_count": 42,
   "metadata": {},
   "outputs": [],
   "source": [
    "M=2-1"
   ]
  },
  {
   "cell_type": "code",
   "execution_count": 43,
   "metadata": {},
   "outputs": [
    {
     "data": {
      "text/plain": [
       "3.4243103448275827"
      ]
     },
     "execution_count": 43,
     "metadata": {},
     "output_type": "execute_result"
    }
   ],
   "source": [
    "# FFER.End = (N/(N-M)) * [Implied Rate – (M/N)*FFER.Start]\n",
    "FFER_end = N / (N-M) * (ImpliedRate - (M/N) * FFER_start)\n",
    "FFER_end"
   ]
  },
  {
   "cell_type": "code",
   "execution_count": 44,
   "metadata": {},
   "outputs": [
    {
     "data": {
      "text/plain": [
       "1.7172413793103125"
      ]
     },
     "execution_count": 44,
     "metadata": {},
     "output_type": "execute_result"
    }
   ],
   "source": [
    "# FFER 금리차이가 25bp 이상이므로 100% 이상 확률 값이 나옴\n",
    "P_hike_25_next = (FFER_end - FFER_start) / 0.25\n",
    "P_hike_25_next"
   ]
  },
  {
   "cell_type": "code",
   "execution_count": 45,
   "metadata": {},
   "outputs": [
    {
     "data": {
      "text/plain": [
       "0.7172413793103125"
      ]
     },
     "execution_count": 45,
     "metadata": {},
     "output_type": "execute_result"
    }
   ],
   "source": [
    "# 100% 이상 확률은 상위 확률로 제조정\n",
    "# P_NoHike = 0\n",
    "# P_50Hike = 63.4%\n",
    "# P_25Hike = 1 - P_50Hike = 36.6%\n",
    "P_hike_50_next = (FFER_end - FFER_start - 0.25) / 0.25\n",
    "P_hike_50_next"
   ]
  },
  {
   "cell_type": "code",
   "execution_count": 46,
   "metadata": {},
   "outputs": [
    {
     "data": {
      "text/plain": [
       "0.2827586206896875"
      ]
     },
     "execution_count": 46,
     "metadata": {},
     "output_type": "execute_result"
    }
   ],
   "source": [
    "P_hike_25_next = 1 - P_hike_50_next\n",
    "P_hike_25_next"
   ]
  },
  {
   "cell_type": "markdown",
   "metadata": {},
   "source": [
    "####  이진트리 적용"
   ]
  },
  {
   "cell_type": "code",
   "execution_count": 47,
   "metadata": {},
   "outputs": [],
   "source": [
    "P_uu = P_hike_75 * P_hike_50_next\n",
    "P_ud = P_hike_75 * P_hike_25_next\n",
    "P_du = P_hike_50 * P_hike_50_next\n",
    "P_dd = P_hike_50 * P_hike_25_next"
   ]
  },
  {
   "cell_type": "code",
   "execution_count": 48,
   "metadata": {},
   "outputs": [
    {
     "data": {
      "text/plain": [
       "0.28689655172414946"
      ]
     },
     "execution_count": 48,
     "metadata": {},
     "output_type": "execute_result"
    }
   ],
   "source": [
    "P_uu"
   ]
  },
  {
   "cell_type": "code",
   "execution_count": 49,
   "metadata": {},
   "outputs": [
    {
     "data": {
      "text/plain": [
       "0.5434482758620477"
      ]
     },
     "execution_count": 49,
     "metadata": {},
     "output_type": "execute_result"
    }
   ],
   "source": [
    "P_mid = P_ud + P_du\n",
    "P_mid"
   ]
  },
  {
   "cell_type": "code",
   "execution_count": 50,
   "metadata": {},
   "outputs": [
    {
     "data": {
      "text/plain": [
       "0.16965517241380285"
      ]
     },
     "execution_count": 50,
     "metadata": {},
     "output_type": "execute_result"
    }
   ],
   "source": [
    "P_dd"
   ]
  },
  {
   "cell_type": "code",
   "execution_count": null,
   "metadata": {},
   "outputs": [],
   "source": []
  }
 ],
 "metadata": {
  "kernelspec": {
   "display_name": "Python 3",
   "language": "python",
   "name": "python3"
  },
  "language_info": {
   "codemirror_mode": {
    "name": "ipython",
    "version": 3
   },
   "file_extension": ".py",
   "mimetype": "text/x-python",
   "name": "python",
   "nbconvert_exporter": "python",
   "pygments_lexer": "ipython3",
   "version": "3.7.0"
  }
 },
 "nbformat": 4,
 "nbformat_minor": 2
}
